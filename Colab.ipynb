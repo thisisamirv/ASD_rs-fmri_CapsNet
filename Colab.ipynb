{
  "nbformat": 4,
  "nbformat_minor": 0,
  "metadata": {
    "colab": {
      "name": "Colab.ipynb",
      "private_outputs": true,
      "provenance": [],
      "authorship_tag": "ABX9TyNCb2eYeSAVAXS7x0UzY6QO",
      "include_colab_link": true
    },
    "kernelspec": {
      "name": "python3",
      "display_name": "Python 3"
    },
    "language_info": {
      "name": "python"
    }
  },
  "cells": [
    {
      "cell_type": "markdown",
      "metadata": {
        "id": "view-in-github",
        "colab_type": "text"
      },
      "source": [
        "<a href=\"https://colab.research.google.com/github/thisisamirv/ASD_rs-fmri_CapsNet/blob/main/Colab.ipynb\" target=\"_parent\"><img src=\"https://colab.research.google.com/assets/colab-badge.svg\" alt=\"Open In Colab\"/></a>"
      ]
    },
    {
      "cell_type": "code",
      "execution_count": null,
      "metadata": {
        "id": "-MWwxDINetrQ"
      },
      "outputs": [],
      "source": [
        "print(\"Hello world!\")"
      ]
    }
  ]
}